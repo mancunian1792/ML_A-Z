{
 "cells": [
  {
   "cell_type": "code",
   "execution_count": 60,
   "metadata": {
    "collapsed": false
   },
   "outputs": [
    {
     "name": "stdout",
     "output_type": "stream",
     "text": [
      "All the above libraries are imported\n"
     ]
    }
   ],
   "source": [
    "#[Course Name ::: Machine Learning A-Z ]\n",
    "#[Part 2 - Multiple Linear Regression ]\n",
    "#[Downloading the dataset .... www.superdatascience.com/machine-learning]\n",
    "\n",
    "#[First Step - Importing the libraries]\n",
    "#[3 essential libraries --- Numpy,matplotlib,pandas]\n",
    "import numpy as np;\n",
    "import matplotlib.pyplot as plt;\n",
    "import pandas as pd;\n",
    "print('All the above libraries are imported')"
   ]
  },
  {
   "cell_type": "code",
   "execution_count": 61,
   "metadata": {
    "collapsed": true
   },
   "outputs": [],
   "source": [
    "#[Multiple Linear Regression --> y=b0+b1*x1+b2*x2+......+bn*xn]\n",
    "#[Assumptions of a Linear Regression:]\n",
    "#[1.Linearity]\n",
    "#[2.Homoscedasticity]\n",
    "#[3.Multivariate normality]\n",
    "#[4.Independence of errors]\n",
    "#[5.Lack of multicollinearity]\n"
   ]
  },
  {
   "cell_type": "code",
   "execution_count": 62,
   "metadata": {
    "collapsed": true
   },
   "outputs": [],
   "source": [
    "# Importing the dataset . The file is under the same directory as the conda root.\n",
    "dataset = pd.read_csv('Datasets//Part 2 - Regression//Section 5 - Multiple Linear Regression//Multiple_Linear_Regression//Multiple_Linear_Regression//50_Startups.csv');"
   ]
  },
  {
   "cell_type": "code",
   "execution_count": 63,
   "metadata": {
    "collapsed": true
   },
   "outputs": [],
   "source": [
    "#[Building a model...\n",
    "# 5 methods of  building models\n",
    "\n",
    "# 1. All -in --> Throw in all your variables ..When you know they are your true predictors..(Because of domain knowledge,or someone asked you to use all the variables\n",
    "\n",
    "# 2. Backward Elimination\n",
    "    # step 1: Select a significance level (SL..eg SL=0.05 (95% fit) ) to stay in the model\n",
    "    # step 2: Fit the full model with all possible predictors\n",
    "    # step 3: Consider the predictor with the highest P-value. If P > SL, go to step 4 else finish.(Keep the current model)\n",
    "    # step 4: Remove the predictor.\n",
    "    # step 5: Fit the model without this variable .. Go to step 3.\n",
    "    \n",
    "# 3. Forward Selection\n",
    "    # step 1: Select a significance level (SL..eg SL=0.05 (95% fit) ) to stay in the model\n",
    "    # step 2: Fit all simple regression models y~xn.Select the one with the lowest P-value.\n",
    "    # step 3: Keep this variable and fit all possible models with one extra predictor added to the one(s) you already have\n",
    "    # step 4: Consider the predictor with the lowest P-value.If p<SL, go to step 3,otherwise finish.(Keep the previous model)\n",
    "    \n",
    "# 4. Bidirectional Elimination\n",
    "    # step 1:Select a significance level to enter and to stay in the model .eg.SLENTER = 0.05,SLSTAY = 0.05\n",
    "    # step 2: Perform the next step of forward selection .(new variables must have P< SLENTER to enter)\n",
    "    # step 3: Perform all the steps of backward elimination (Old variables must have P< SLSTAY to stay)\n",
    "    # step 4: No new variables can enter and no old variables can exit.Your model is ready (Keep the current model)\n",
    "    \n",
    "# 5. Score Comparison (All possible models )\n",
    "    # step 1: Select a criterion of goodness 0f fit (eg.Akaike criterion,RMSE,etc...)\n",
    "    # step 2:Construct all possible regression models..2^(N)-1 total combinations..where N is the no of columns.\n",
    "    # step 3: Select the one with the best criterion.\n",
    "    # Resource consuming approach--even for 10 columns you need 1023 models.\n",
    "    \n",
    "    \n",
    "    #[We are going to use backward elimination type of approach in this ...]"
   ]
  },
  {
   "cell_type": "code",
   "execution_count": 64,
   "metadata": {
    "collapsed": false
   },
   "outputs": [
    {
     "name": "stdout",
     "output_type": "stream",
     "text": [
      "[[162597.7 151377.59 443898.53 'California']\n",
      " [153441.51 101145.55 407934.54 'Florida']\n",
      " [144372.41 118671.85 383199.62 'New York']\n",
      " [142107.34 91391.77 366168.42 'Florida']\n",
      " [131876.9 99814.71 362861.36 'New York']\n",
      " [134615.46 147198.87 127716.82 'California']\n",
      " [130298.13 145530.06 323876.68 'Florida']\n",
      " [120542.52 148718.95 311613.29 'New York']\n",
      " [123334.88 108679.17 304981.62 'California']]\n",
      "[ 191792.06  191050.39  182901.99  166187.94  156991.12  156122.51\n",
      "  155752.6   152211.77  149759.96]\n"
     ]
    }
   ],
   "source": [
    "\n",
    "x=dataset.iloc[:, :-1].values;\n",
    "y=dataset.iloc[:, 4].values;\n",
    "print(x[1:10])\n",
    "print(y[1:10])"
   ]
  },
  {
   "cell_type": "code",
   "execution_count": 65,
   "metadata": {
    "collapsed": false
   },
   "outputs": [],
   "source": [
    "# Encoding the dependant variable state.\n",
    "from sklearn.preprocessing import LabelEncoder , OneHotEncoder\n",
    "labelEncoder_x = LabelEncoder()\n",
    "x[:, 3] = labelEncoder_x.fit_transform(x[:, 3])\n",
    "one_hot_x = OneHotEncoder(categorical_features = [3]);\n",
    "x = one_hot_x.fit_transform(x).toarray()\n"
   ]
  },
  {
   "cell_type": "code",
   "execution_count": 66,
   "metadata": {
    "collapsed": true
   },
   "outputs": [],
   "source": [
    "#Avoiding the dummy variable trap\n",
    "x = x[:,1:]\n",
    "# For some software we need to manually avoid the dummy variable trap.\n"
   ]
  },
  {
   "cell_type": "code",
   "execution_count": 67,
   "metadata": {
    "collapsed": false
   },
   "outputs": [],
   "source": [
    "#[Next step is to split the dataset into train and test data.]\n",
    "#[Reason --> When the ML algorithm learns something .. \n",
    "# we need to test the output against some data to verify its learning capabilities]\n",
    "from sklearn.cross_validation import  train_test_split\n",
    "x_train ,x_test,y_train,y_test = train_test_split(x,y,test_size = 0.2,random_state = 0)"
   ]
  },
  {
   "cell_type": "code",
   "execution_count": 68,
   "metadata": {
    "collapsed": false
   },
   "outputs": [
    {
     "data": {
      "text/plain": [
       "LinearRegression(copy_X=True, fit_intercept=True, n_jobs=1, normalize=False)"
      ]
     },
     "execution_count": 68,
     "metadata": {},
     "output_type": "execute_result"
    }
   ],
   "source": [
    "from sklearn.linear_model import LinearRegression\n",
    "regressor = LinearRegression();\n",
    "regressor.fit(x_train, y_train)"
   ]
  },
  {
   "cell_type": "code",
   "execution_count": 69,
   "metadata": {
    "collapsed": true
   },
   "outputs": [],
   "source": [
    "y_pred = regressor.predict(x_test)"
   ]
  },
  {
   "cell_type": "code",
   "execution_count": 71,
   "metadata": {
    "collapsed": false
   },
   "outputs": [
    {
     "data": {
      "text/plain": [
       "28896.86211902162"
      ]
     },
     "execution_count": 71,
     "metadata": {},
     "output_type": "execute_result"
    }
   ],
   "source": [
    "# Computing the RMSE of the prediction.\n",
    "import math\n",
    "math.sqrt(sum((y_test - y_pred)**2))"
   ]
  }
 ],
 "metadata": {
  "anaconda-cloud": {},
  "kernelspec": {
   "display_name": "Python [conda root]",
   "language": "python",
   "name": "conda-root-py"
  },
  "language_info": {
   "codemirror_mode": {
    "name": "ipython",
    "version": 3
   },
   "file_extension": ".py",
   "mimetype": "text/x-python",
   "name": "python",
   "nbconvert_exporter": "python",
   "pygments_lexer": "ipython3",
   "version": "3.5.2"
  }
 },
 "nbformat": 4,
 "nbformat_minor": 1
}
